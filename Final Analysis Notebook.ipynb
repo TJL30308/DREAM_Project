{
 "cells": [
  {
   "cell_type": "markdown",
   "metadata": {},
   "source": [
    "# Statistical Analysis\n",
    "### 2010 ANOVA\n",
    "* **Uninsured vs. Mortality:** statistic=11.423921956549762 // pvalue=0.0026973985600535423\n",
    "* **Uninsured vs. ER:** statistic = 6.351761254768116 // pvalue = 0.019483926426570968\n",
    "* **Uninsured vs. Expenditure:** TBD // TBD\n",
    "\n",
    "### 2010 T-Test\n",
    "* **Uninsured vs. Mortality:** statistic = 3.379929282773496 // pvalue = 0.00269739856005354\n",
    "* **Uninsured vs. ER:** statistic = -2.5202700757593646 // pvalue=0.019483926426571\n",
    "* **Uninsured vs. Expenditure:** TBD // TBD\n",
    "\n",
    "### 2010 Chi Squared\n",
    "* **Uninsured vs. Mortality:** statistic = 28218562212.382233 // pvalue = 0.0\n",
    "* **Uninsured vs. ER:** statistic = 13489373.490375435 // pvalue=0.0\n",
    "* **Uninsured vs. Expenditure:** TBD // TBD"
   ]
  },
  {
   "cell_type": "code",
   "execution_count": 2,
   "metadata": {},
   "outputs": [],
   "source": [
    "import matplotlib.pyplot as plt\n",
    "import pandas as pd\n",
    "import numpy as np\n",
    "from scipy.stats import linregress\n",
    "import scipy.stats as stats"
   ]
  },
  {
   "cell_type": "code",
   "execution_count": null,
   "metadata": {},
   "outputs": [],
   "source": [
    "uninsured = \"Resources/dataframe_uninsured.csv\"\n",
    "uninsured = pd.read_csv(uninsured)\n",
    "uninsured_df = pd.DataFrame(uninsured)\n",
    "uninsured_df"
   ]
  },
  {
   "cell_type": "code",
   "execution_count": null,
   "metadata": {},
   "outputs": [],
   "source": [
    "mortality = \"Resources/crudemortality.csv\"\n",
    "mortality = pd.read_csv(mortality)\n",
    "mortality_df = pd.DataFrame(mortality)\n",
    "mortality_df"
   ]
  },
  {
   "cell_type": "code",
   "execution_count": null,
   "metadata": {},
   "outputs": [],
   "source": [
    "er = \"Resources/total_er_visits.csv\"\n",
    "er = pd.read_csv(er)\n",
    "er_df = pd.DataFrame(er)\n",
    "er_df"
   ]
  },
  {
   "cell_type": "code",
   "execution_count": null,
   "metadata": {},
   "outputs": [],
   "source": [
    "#2010 Uninsured vs Mortality ANOVA Test\n",
    "mortality_anova_10 = scipy.stats.f_oneway(uninsured_df[\"2010\"],\n",
    "                                       mortality_df[\"2010\"])\n",
    "\n",
    "print(mortality_anova_10)"
   ]
  },
  {
   "cell_type": "code",
   "execution_count": null,
   "metadata": {},
   "outputs": [],
   "source": [
    "#2010 Uninsured vs ER ANOVA Test\n",
    "er_anova_10 = scipy.stats.f_oneway(uninsured_df[\"2010\"],\n",
    "                                er_df[\"2010\"])\n",
    "\n",
    "print(er_anova_10)"
   ]
  },
  {
   "cell_type": "code",
   "execution_count": null,
   "metadata": {},
   "outputs": [],
   "source": [
    "#2010 Uninsured vs Expenditure ANOVA Test\n",
    "expenditure_anova_10 = scipy.stats.f_oneway(uninsured_df[\"2010\"],\n",
    "                                         #TBD[\"2010\"])\n",
    "\n",
    "print(expenditure_anova_10)"
   ]
  },
  {
   "cell_type": "code",
   "execution_count": null,
   "metadata": {},
   "outputs": [],
   "source": [
    "#2010 Uninsured vs Mortality T-Test\n",
    "mortality_t_10 = scipy.stats.ttest_ind(uninsured_df[\"2010\"],\n",
    "                               mortality_df[\"2010\"])\n",
    "\n",
    "print(mortality_t_10)"
   ]
  },
  {
   "cell_type": "code",
   "execution_count": null,
   "metadata": {},
   "outputs": [],
   "source": [
    "#2010 Uninsured vs ER T-Test\n",
    "er_t_10 = scipy.stats.ttest_ind(uninsured_df[\"2010\"],\n",
    "                               er_df[\"2010\"])\n",
    "\n",
    "print(er_t_10)"
   ]
  },
  {
   "cell_type": "code",
   "execution_count": null,
   "metadata": {},
   "outputs": [],
   "source": [
    "#2010 Uninsured vs Expenditure T-Test\n",
    "expenditure_t_10 = scipy.stats.ttest_ind(uninsured_df[\"2010\"],\n",
    "                               #TBD[\"2010\"])\n",
    "\n",
    "print(expenditure_t_10)"
   ]
  },
  {
   "cell_type": "code",
   "execution_count": null,
   "metadata": {},
   "outputs": [],
   "source": [
    "#2010 Uninsured vs Mortality Chi Squared\n",
    "mortality_chi_10 = scipy.stats.chisquare(uninsured_df[\"2010\"],\n",
    "                                   mortality_df[\"2010\"])\n",
    "\n",
    "print(mortality_chi_10)"
   ]
  },
  {
   "cell_type": "code",
   "execution_count": null,
   "metadata": {},
   "outputs": [],
   "source": [
    "#2010 Uninsured vs ER Chi Squared\n",
    "er_chi_10 = scipy.stats.chisquare(uninsured_df[\"2010\"],\n",
    "                                   er_df[\"2010\"])\n",
    "\n",
    "print(er_chi_10)"
   ]
  },
  {
   "cell_type": "code",
   "execution_count": null,
   "metadata": {},
   "outputs": [],
   "source": [
    "#2010 Uninsured vs Expenditure Chi Squared\n",
    "expenditure_chi_10 = scipy.stats.chisquare(uninsured_df[\"2010\"],\n",
    "                                  #TBD[\"2010\"])\n",
    "\n",
    "print(expenditure_chi_10)"
   ]
  },
  {
   "cell_type": "code",
   "execution_count": null,
   "metadata": {},
   "outputs": [],
   "source": []
  }
 ],
 "metadata": {
  "kernelspec": {
   "display_name": "Python 3",
   "language": "python",
   "name": "python3"
  },
  "language_info": {
   "codemirror_mode": {
    "name": "ipython",
    "version": 3
   },
   "file_extension": ".py",
   "mimetype": "text/x-python",
   "name": "python",
   "nbconvert_exporter": "python",
   "pygments_lexer": "ipython3",
   "version": "3.6.9"
  }
 },
 "nbformat": 4,
 "nbformat_minor": 2
}
