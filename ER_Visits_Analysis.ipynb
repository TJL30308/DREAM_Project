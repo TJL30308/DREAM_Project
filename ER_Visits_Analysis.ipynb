{
 "cells": [
  {
   "cell_type": "code",
   "execution_count": null,
   "metadata": {},
   "outputs": [],
   "source": [
    "import pandas as pd\n",
    "import numpy as np\n",
    "import matplotlib.pyplot as plt\n",
    "from scipy.stats import linregress\n",
    "\n",
    "years_list = [2010, 2011, 2012, 2013, 2014]\n",
    "\n",
    "from params import states_list"
   ]
  },
  {
   "cell_type": "code",
   "execution_count": null,
   "metadata": {},
   "outputs": [],
   "source": [
    "# Import uncleaned state pop data\n",
    "\n",
    "unclean_state_pop = pd.read_excel('Resources/nst-est2019-01.xlsx')\n",
    "\n",
    "# clean state population into clean dataframe\n",
    "\n",
    "state_pop = unclean_state_pop.dropna()\n",
    "state_pop = state_pop.rename(columns = {'table with row headers in column A and column headers in rows 3 through 4. (leading dots indicate sub-parts)':'State',\n",
    "                                 'Unnamed: 3' : '2010',\n",
    "                                 'Unnamed: 4' : '2011',\n",
    "                                 'Unnamed: 5' :' 2012',\n",
    "                                 'Unnamed: 6' : '2013',\n",
    "                                 'Unnamed: 7' : '2014'})\n",
    "state_pop = state_pop.drop(['Unnamed: 1', 'Unnamed: 2', 'Unnamed: 8', 'Unnamed: 9', 'Unnamed: 10',\n",
    "               'Unnamed: 11', 'Unnamed: 12'], axis=1)\n",
    "\n",
    "state_pop = state_pop.reset_index(drop = True)\n",
    "state_pop = state_pop.set_index('State')\n",
    "state_pop = state_pop.drop(['United States', 'Northeast', 'Midwest', 'South', 'West', 'Alabama', 'Alaska', \n",
    "                           'Arkansas', 'California', 'Colorado', 'Connecticut', 'Delaware', 'District of Columbia', 'Georgia',\n",
    "                           'Hawaii', 'Idaho', 'Indiana', 'Kansas', 'Louisiana', 'Maine', 'Massachusetts', 'Michigan',\n",
    "                           'Mississippi', 'Missouri', 'Montana', 'Nevada', 'New Hampshire', 'New Jersey', 'New Mexico',\n",
    "                           'New York', 'North Dakota', 'Oklahoma', 'Ohio', 'Oregon', 'Pennsylvania','Rhode Island',\n",
    "                           'South Dakota','Texas','Utah','Virginia','Washington','West Virginia','Wisconsin', \n",
    "                           'Wyoming','Puerto Rico'])\n",
    "\n",
    "state_pop"
   ]
  },
  {
   "cell_type": "code",
   "execution_count": null,
   "metadata": {},
   "outputs": [],
   "source": [
    "state_pop.to_csv('Resources/state_pop.csv')"
   ]
  },
  {
   "cell_type": "code",
   "execution_count": null,
   "metadata": {
    "scrolled": true
   },
   "outputs": [],
   "source": [
    "# import ER data from CSV file\n",
    "ER_data = pd.read_excel('Resources/HCUP_clean.xlsx')\n",
    "ER_data = ER_data.set_index('State')\n",
    "ER_data"
   ]
  },
  {
   "cell_type": "code",
   "execution_count": null,
   "metadata": {},
   "outputs": [],
   "source": [
    "# create copy of dataframes for calculations\n",
    "ER_data_copy = ER_data.copy()\n",
    "state_pop_copy = state_pop.copy()\n",
    "\n",
    "ER_visits_rate = pd.DataFrame(ER_data_copy.values / state_pop_copy.values * 100000, columns = years_list , index = states_list) \n",
    "ER_visits_rate"
   ]
  },
  {
   "cell_type": "code",
   "execution_count": null,
   "metadata": {},
   "outputs": [],
   "source": [
    "# calculate summary statistics of ER visits for states combined\n",
    "\n",
    "mean_2010 = int(ER_data[2010].mean())\n",
    "mean_2011 = int(ER_data[2011].mean())\n",
    "mean_2012 = int(ER_data[2012].mean())\n",
    "mean_2013 = int(ER_data[2013].mean())\n",
    "mean_2014 = int(ER_data[2014].mean())\n",
    "\n",
    "sum_2010 = int(ER_data[2010].sum())\n",
    "sum_2011 = int(ER_data[2011].sum())\n",
    "sum_2012 = int(ER_data[2012].sum())\n",
    "sum_2013 = int(ER_data[2013].sum())\n",
    "sum_2014 = int(ER_data[2014].sum())\n",
    "\n",
    "print('----------------------------------------------')\n",
    "print(f'The Average Number of ER Visits per Year')\n",
    "print('----------------------------------------------')\n",
    "print(f'Average Number of ER Visits in 2010: {mean_2010}')\n",
    "print(f'Average Number of ER Visits in 2011: {mean_2011}')\n",
    "print(f'Average Number of ER Visits in 2012: {mean_2012}')\n",
    "print(f'Average Number of ER Visits in 2013: {mean_2013}')\n",
    "print(f'Average Number of ER Visits in 2014: {mean_2014}')\n",
    "print('----------------------------------------------')\n",
    "print(f'The Total Number of ER Visits per Year')\n",
    "print('----------------------------------------------')\n",
    "print(f'Total Number of ER Visits in 2010: {sum_2010}')\n",
    "print(f'Total Number of ER Visits in 2011: {sum_2011}')\n",
    "print(f'Total Number of ER Visits in 2012: {sum_2012}')\n",
    "print(f'Total Number of ER Visits in 2013: {sum_2013}')\n",
    "print(f'Total Number of ER Visits in 2014: {sum_2014}')\n",
    "print('----------------------------------------------')"
   ]
  },
  {
   "cell_type": "code",
   "execution_count": null,
   "metadata": {},
   "outputs": [],
   "source": [
    "# Plotting time trends of ER visits rates for top 3 and bottom 3 states based on insurance coverage of state population\n",
    "plt.plot(years_list, ER_visits_rate.loc['Florida',[2010,2011,2012,2013,2014]], color='xkcd:purple', label = 'Florida', linestyle = '-')\n",
    "plt.plot(years_list, ER_visits_rate.loc['Iowa',[2010,2011,2012,2013,2014]], color='xkcd:blue', label = 'Iowa', linestyle = '-')\n",
    "plt.plot(years_list, ER_visits_rate.loc['Minnesota',[2010,2011,2012,2013,2014]], color='xkcd:turquoise', label = 'Minnesota', linestyle = '-')\n",
    "plt.plot(years_list, ER_visits_rate.loc['North Carolina',[2010,2011,2012,2013,2014]], color='xkcd:rose', label = 'North Carolina', linestyle = '-')\n",
    "plt.plot(years_list, ER_visits_rate.loc['South Carolina',[2010,2011,2012,2013,2014]], color='xkcd:burnt orange', label = 'South Carolina', linestyle = '-')\n",
    "plt.plot(years_list, ER_visits_rate.loc['Vermont',[2010,2011,2012,2013,2014]], color='xkcd:neon pink', label = 'Vermont', linestyle = '-')\n",
    "\n",
    "plt.xlim(2010, 2014)\n",
    "plt.xticks(np.arange(2010, 2015, 1.0))\n",
    "plt.legend(frameon=False, loc='lower center', ncol=3)\n",
    "plt.ylim(10000, 60000)\n",
    "plt.ylabel(\"Visits per 100,000 Population\")\n",
    "plt.title(\"Rate of ER Visits by State 2010-2014\")\n",
    "plt.xlabel(\"Year\")\n",
    "plt.show()"
   ]
  },
  {
   "cell_type": "code",
   "execution_count": null,
   "metadata": {},
   "outputs": [],
   "source": [
    "ER_visits_rate.sort_values(by=[2010], axis=0, ascending=False)"
   ]
  },
  {
   "cell_type": "code",
   "execution_count": null,
   "metadata": {},
   "outputs": [],
   "source": [
    "# pull uninsured/insured data and start comparisons to ER visits\n",
    "uninsured_data = pd.read_csv('Resources/dataframe_uninsured.csv')\n",
    "insured_data = pd.read_csv('Resources/dataframe_insured.csv')"
   ]
  },
  {
   "cell_type": "code",
   "execution_count": null,
   "metadata": {},
   "outputs": [],
   "source": [
    "# clean up insured/unisured data\n",
    "uninsured_data_copy = uninsured_data.copy()\n",
    "insured_data_copy = insured_data.copy()\n",
    "\n",
    "uninsured_data_copy = uninsured_data_copy.set_index('State')\n",
    "insured_data_copy = insured_data_copy.set_index('State')\n",
    "\n",
    "del uninsured_data_copy.index.name\n",
    "del insured_data_copy.index.name\n",
    "\n",
    "insured_data_copy"
   ]
  },
  {
   "cell_type": "code",
   "execution_count": null,
   "metadata": {},
   "outputs": [],
   "source": [
    "uninsured_data_copy.sort_values(by = '2010', ascending = False)"
   ]
  },
  {
   "cell_type": "code",
   "execution_count": null,
   "metadata": {},
   "outputs": [],
   "source": [
    "insured_rate = pd.DataFrame(insured_data_copy.values / state_pop_copy.values * 100, columns = years_list , index = states_list) \n",
    "# insured_rate.sort_values(by = 2010, ascending = False)"
   ]
  },
  {
   "cell_type": "code",
   "execution_count": null,
   "metadata": {},
   "outputs": [],
   "source": [
    "# Create data frame of calculated percent of population that is uninsured\n",
    "\n",
    "uninsured_rate = pd.DataFrame(uninsured_data_copy.values / state_pop_copy.values * 100, columns = years_list , index = states_list) \n",
    "\n",
    "uninsured_rate.to_csv('Resources/uninsured_rate.csv')\n",
    "uninsured_rate.sort_values(by = 2010, ascending = False)"
   ]
  },
  {
   "cell_type": "code",
   "execution_count": null,
   "metadata": {},
   "outputs": [],
   "source": [
    "# plot rate of ER visits to percent of population uninsured and calculate regression \n",
    "\n",
    "x_values = uninsured_rate[[2010, 2011, 2012, 2013, 2014]]\n",
    "y_values = ER_visits_rate[[2010, 2011, 2012, 2013, 2014]]\n",
    "\n",
    "# slope, intercept, rvalue = linregress(x_values.astype(float), y_values.astype(float))\n",
    "\n",
    "plt.title('Percent of Population Uninsured and Rate of ER Visits')\n",
    "plt.ylabel('Rate of ER Visits (per 100,000)')\n",
    "plt.xlabel('Percent of Population Uninsured (%)')\n",
    "plt.scatter(x_values, y_values)\n",
    "plt.savefig('ER_visits_uninsured.png') \n",
    "plt.show()\n"
   ]
  },
  {
   "cell_type": "code",
   "execution_count": null,
   "metadata": {},
   "outputs": [],
   "source": [
    "# pull mortality data to plot mortality rate v. unisured population\n",
    "\n",
    "mortality_rate = pd.read_csv('Resources/crudemortality.csv')\n",
    "mortality_rate = mortality_rate.set_index('STATE')\n",
    "mortality_rate.sort_values(by = '2010', ascending = False)"
   ]
  },
  {
   "cell_type": "code",
   "execution_count": null,
   "metadata": {},
   "outputs": [],
   "source": [
    "# create plot\n",
    "y_values2 = mortality_rate[['2010', '2011', '2012', '2013', '2014']]\n",
    "\n",
    "plt.title('Percent of Population Uninsured and Mortality Rate')\n",
    "plt.ylabel('Mortality Rate (per 100,000)')\n",
    "plt.xlabel('Percent of Population Uninsured (%)')\n",
    "plt.scatter(x_values, y_values2)\n",
    "\n",
    "plt.show()"
   ]
  },
  {
   "cell_type": "code",
   "execution_count": null,
   "metadata": {},
   "outputs": [],
   "source": [
    "# Alessio analysis on HealthCareExpenditure\n",
    "\n",
    "data_2010 = \"Resources/raw_data_2010.csv\"\n",
    "health_care_data_2010 = pd.read_csv(data_2010)\n",
    "data_2011 = \"Resources/raw_data_2011.csv\"\n",
    "health_care_data_2011 = pd.read_csv(data_2011)\n",
    "data_2012 = \"Resources/raw_data_2012.csv\"\n",
    "health_care_data_2012 = pd.read_csv(data_2012)\n",
    "data_2013 = \"Resources/raw_data_2013.csv\"\n",
    "health_care_data_2013 = pd.read_csv(data_2013)\n",
    "data_2014 = \"Resources/raw_data_2014.csv\"\n",
    "health_care_data_2014 = pd.read_csv(data_2014)\n",
    "mortality_data = pd.read_csv('Resources/crudemortality.csv')\n",
    "uninsured_data=pd.read_csv('Resources/dataframe_uninsured.csv')\n"
   ]
  },
  {
   "cell_type": "code",
   "execution_count": null,
   "metadata": {},
   "outputs": [],
   "source": [
    "health_care_2010 = health_care_data_2010.rename(columns={\"Location\": \"State\"})\n",
    "health_care_2011 = health_care_data_2011.rename(columns={\"Location\": \"State\"})\n",
    "health_care_2012 = health_care_data_2012.rename(columns={\"Location\": \"State\"})\n",
    "health_care_2013 = health_care_data_2013.rename(columns={\"Location\": \"State\"})\n",
    "health_care_2014 = health_care_data_2014.rename(columns={\"Location\": \"State\"})"
   ]
  },
  {
   "cell_type": "code",
   "execution_count": null,
   "metadata": {},
   "outputs": [],
   "source": [
    "x = health_care_2010.merge(health_care_2011,)"
   ]
  },
  {
   "cell_type": "code",
   "execution_count": null,
   "metadata": {},
   "outputs": [],
   "source": [
    "x = health_care_2010.merge(health_care_2011, on = \"State\", suffixes = (\"_2010\",\"_2011\")).merge(health_care_2012, on = \"State\", suffixes = (\"2012\",\"2012\")).merge(health_care_2013, on = \"State\", suffixes = (\"_2012\",\"_2013\")).merge(health_care_2014, on = \"State\", suffixes = (\"_2014\",\"_2014\"))\n",
    "x.head(5)"
   ]
  },
  {
   "cell_type": "code",
   "execution_count": null,
   "metadata": {},
   "outputs": [],
   "source": [
    "df=x"
   ]
  },
  {
   "cell_type": "code",
   "execution_count": null,
   "metadata": {},
   "outputs": [],
   "source": [
    "df = df.dropna(how='any')"
   ]
  },
  {
   "cell_type": "code",
   "execution_count": null,
   "metadata": {},
   "outputs": [],
   "source": [
    "df = df.set_index('State')"
   ]
  },
  {
   "cell_type": "code",
   "execution_count": null,
   "metadata": {},
   "outputs": [],
   "source": [
    "for index, row in df.iterrows():\n",
    "    \n",
    "    if index not in states_list:\n",
    "        \n",
    "        df = df.drop(index)\n",
    "df=df.rename(columns={\"Health Spending per Capita\": \"2014\",\n",
    "                      \"Health Spending per Capita_2010\": \"2010\",\n",
    "                      \"Health Spending per Capita_2011\": \"2011\",\n",
    "                      \"Health Spending per Capita_2012\": \"2012\",\n",
    "                      \"Health Spending per Capita_2013\": \"2013\"})\n",
    "df"
   ]
  },
  {
   "cell_type": "code",
   "execution_count": null,
   "metadata": {},
   "outputs": [],
   "source": [
    "# Plot of Health Care Expenditure Per Capita v. Percent of Population Uninsured\n",
    "y_axis = df\n",
    "plt.figure(figsize=(10,3))\n",
    "plt.title(\"Uninsured rate vs Health Care Spending\")\n",
    "plt.xlabel(\"Percent of Population Uninsured (%)\")\n",
    "plt.ylabel(\"Health Care Spending Per Capita\")\n",
    "plt.scatter(x_values, y_axis, color='r', alpha=1)\n",
    "plt.savefig(\"output/Uninsured_rate_vs_Health_Care_Spending.png\")\n",
    "plt.show()"
   ]
  },
  {
   "cell_type": "code",
   "execution_count": null,
   "metadata": {},
   "outputs": [],
   "source": []
  }
 ],
 "metadata": {
  "kernelspec": {
   "display_name": "Python 3",
   "language": "python",
   "name": "python3"
  },
  "language_info": {
   "codemirror_mode": {
    "name": "ipython",
    "version": 3
   },
   "file_extension": ".py",
   "mimetype": "text/x-python",
   "name": "python",
   "nbconvert_exporter": "python",
   "pygments_lexer": "ipython3",
   "version": "3.8.0"
  }
 },
 "nbformat": 4,
 "nbformat_minor": 2
}
