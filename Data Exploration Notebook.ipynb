{
 "cells": [
  {
   "cell_type": "code",
   "execution_count": 1,
   "metadata": {},
   "outputs": [],
   "source": [
    "from params import states_list, years_list\n",
    "import matplotlib.pyplot as plt\n",
    "import pandas as pd\n",
    "import numpy as np\n",
    "from scipy.stats import linregress"
   ]
  },
  {
   "cell_type": "code",
   "execution_count": null,
   "metadata": {},
   "outputs": [],
   "source": [
    "# Will Pope: ER Visits and visualization\n",
    "\n",
    "total_er_visits = \"Resources/total_er_visits.csv\"\n",
    "total_er_visits = pd.read_csv(total_er_visits)\n",
    "total_er_df = pd.DataFrame(total_er_visits)\n",
    "total_er_df = total_er_df.set_index('State')\n",
    "\n",
    "total_er_df"
   ]
  },
  {
   "cell_type": "code",
   "execution_count": null,
   "metadata": {},
   "outputs": [],
   "source": [
    "ax = total_er_df.plot.bar(rot=45)\n",
    "ax.set_title(\"ER Visits by State\")\n",
    "ax.set_ylabel(\"Total Visits\")\n",
    "ax.grid()"
   ]
  }
 ],
 "metadata": {
  "kernelspec": {
   "display_name": "Python 3",
   "language": "python",
   "name": "python3"
  },
  "language_info": {
   "codemirror_mode": {
    "name": "ipython",
    "version": 3
   },
   "file_extension": ".py",
   "mimetype": "text/x-python",
   "name": "python",
   "nbconvert_exporter": "python",
   "pygments_lexer": "ipython3",
   "version": "3.6.9"
  }
 },
 "nbformat": 4,
 "nbformat_minor": 2
}
