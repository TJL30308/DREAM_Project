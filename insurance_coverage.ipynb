{
 "nbformat": 4,
 "nbformat_minor": 2,
 "metadata": {
  "language_info": {
   "name": "python",
   "codemirror_mode": {
    "name": "ipython",
    "version": 3
   },
   "version": "3.7.4-final"
  },
  "orig_nbformat": 2,
  "file_extension": ".py",
  "mimetype": "text/x-python",
  "name": "python",
  "npconvert_exporter": "python",
  "pygments_lexer": "ipython3",
  "version": 3,
  "kernelspec": {
   "name": "python37464bitjaimevirtualenv60a017d0aab1428489224e80d1d6d70a",
   "display_name": "Python 3.7.4 64-bit ('jaime': virtualenv)"
  }
 },
 "cells": [
  {
   "cell_type": "code",
   "execution_count": 1,
   "metadata": {},
   "outputs": [],
   "source": [
    "import pandas as pd\n",
    "import matplotlib.pyplot as plt\n",
    "from params import states_list, years_list"
   ]
  },
  {
   "cell_type": "code",
   "execution_count": 5,
   "metadata": {},
   "outputs": [
    {
     "data": {
      "text/html": "<div>\n<style scoped>\n    .dataframe tbody tr th:only-of-type {\n        vertical-align: middle;\n    }\n\n    .dataframe tbody tr th {\n        vertical-align: top;\n    }\n\n    .dataframe thead th {\n        text-align: right;\n    }\n</style>\n<table border=\"1\" class=\"dataframe\">\n  <thead>\n    <tr style=\"text-align: right;\">\n      <th></th>\n      <th>Nation/State</th>\n      <th>Coverage</th>\n      <th>2014</th>\n      <th>2013</th>\n      <th>2012</th>\n      <th>2011</th>\n      <th>2010</th>\n    </tr>\n  </thead>\n  <tbody>\n    <tr>\n      <td>0</td>\n      <td>ARIZONA</td>\n      <td>Any coverage</td>\n      <td>5720000</td>\n      <td>5403000</td>\n      <td>5313000</td>\n      <td>5283000</td>\n      <td>5245000</td>\n    </tr>\n    <tr>\n      <td>1</td>\n      <td>ARIZONA</td>\n      <td>Uninsured</td>\n      <td>903000</td>\n      <td>1118000</td>\n      <td>1131000</td>\n      <td>1095000</td>\n      <td>1065000</td>\n    </tr>\n    <tr>\n      <td>2</td>\n      <td>FLORIDA</td>\n      <td>Any coverage</td>\n      <td>16338000</td>\n      <td>15392000</td>\n      <td>15195000</td>\n      <td>14841000</td>\n      <td>14593000</td>\n    </tr>\n    <tr>\n      <td>3</td>\n      <td>FLORIDA</td>\n      <td>Uninsured</td>\n      <td>3245000</td>\n      <td>3853000</td>\n      <td>3816000</td>\n      <td>3911000</td>\n      <td>3941000</td>\n    </tr>\n    <tr>\n      <td>4</td>\n      <td>ILLINOIS</td>\n      <td>Any coverage</td>\n      <td>11464000</td>\n      <td>11086000</td>\n      <td>11076000</td>\n      <td>11029000</td>\n      <td>10928000</td>\n    </tr>\n    <tr>\n      <td>5</td>\n      <td>ILLINOIS</td>\n      <td>Uninsured</td>\n      <td>1238000</td>\n      <td>1618000</td>\n      <td>1622000</td>\n      <td>1659000</td>\n      <td>1746000</td>\n    </tr>\n    <tr>\n      <td>6</td>\n      <td>IOWA</td>\n      <td>Any coverage</td>\n      <td>2874000</td>\n      <td>2798000</td>\n      <td>2775000</td>\n      <td>2748000</td>\n      <td>2725000</td>\n    </tr>\n    <tr>\n      <td>7</td>\n      <td>IOWA</td>\n      <td>Uninsured</td>\n      <td>189000</td>\n      <td>248000</td>\n      <td>254000</td>\n      <td>269000</td>\n      <td>280000</td>\n    </tr>\n    <tr>\n      <td>8</td>\n      <td>KENTUCKY</td>\n      <td>Any coverage</td>\n      <td>3962000</td>\n      <td>3696000</td>\n      <td>3697000</td>\n      <td>3666000</td>\n      <td>3596000</td>\n    </tr>\n    <tr>\n      <td>9</td>\n      <td>KENTUCKY</td>\n      <td>Uninsured</td>\n      <td>366000</td>\n      <td>616000</td>\n      <td>595000</td>\n      <td>618000</td>\n      <td>647000</td>\n    </tr>\n    <tr>\n      <td>10</td>\n      <td>MARYLAND</td>\n      <td>Any coverage</td>\n      <td>5423000</td>\n      <td>5241000</td>\n      <td>5191000</td>\n      <td>5138000</td>\n      <td>5047000</td>\n    </tr>\n    <tr>\n      <td>11</td>\n      <td>MARYLAND</td>\n      <td>Uninsured</td>\n      <td>463000</td>\n      <td>593000</td>\n      <td>598000</td>\n      <td>598000</td>\n      <td>641000</td>\n    </tr>\n    <tr>\n      <td>12</td>\n      <td>MINNESOTA</td>\n      <td>Any coverage</td>\n      <td>5081000</td>\n      <td>4923000</td>\n      <td>4895000</td>\n      <td>4819000</td>\n      <td>4776000</td>\n    </tr>\n    <tr>\n      <td>13</td>\n      <td>MINNESOTA</td>\n      <td>Uninsured</td>\n      <td>317000</td>\n      <td>440000</td>\n      <td>425000</td>\n      <td>467000</td>\n      <td>476000</td>\n    </tr>\n    <tr>\n      <td>14</td>\n      <td>NEBRASKA</td>\n      <td>Any coverage</td>\n      <td>1674000</td>\n      <td>1632000</td>\n      <td>1621000</td>\n      <td>1607000</td>\n      <td>1594000</td>\n    </tr>\n    <tr>\n      <td>15</td>\n      <td>NEBRASKA</td>\n      <td>Uninsured</td>\n      <td>179000</td>\n      <td>209000</td>\n      <td>206000</td>\n      <td>207000</td>\n      <td>208000</td>\n    </tr>\n    <tr>\n      <td>16</td>\n      <td>NORTH CAROLINA</td>\n      <td>Any coverage</td>\n      <td>8476000</td>\n      <td>8136000</td>\n      <td>7970000</td>\n      <td>7916000</td>\n      <td>7791000</td>\n    </tr>\n    <tr>\n      <td>17</td>\n      <td>NORTH CAROLINA</td>\n      <td>Uninsured</td>\n      <td>1276000</td>\n      <td>1509000</td>\n      <td>1582000</td>\n      <td>1545000</td>\n      <td>1570000</td>\n    </tr>\n    <tr>\n      <td>18</td>\n      <td>SOUTH CAROLINA</td>\n      <td>Any coverage</td>\n      <td>4092000</td>\n      <td>3939000</td>\n      <td>3845000</td>\n      <td>3813000</td>\n      <td>3742000</td>\n    </tr>\n    <tr>\n      <td>19</td>\n      <td>SOUTH CAROLINA</td>\n      <td>Uninsured</td>\n      <td>642000</td>\n      <td>739000</td>\n      <td>778000</td>\n      <td>766000</td>\n      <td>795000</td>\n    </tr>\n    <tr>\n      <td>20</td>\n      <td>TENNESSEE</td>\n      <td>Any coverage</td>\n      <td>5672000</td>\n      <td>5508000</td>\n      <td>5473000</td>\n      <td>5380000</td>\n      <td>5361000</td>\n    </tr>\n    <tr>\n      <td>21</td>\n      <td>TENNESSEE</td>\n      <td>Uninsured</td>\n      <td>776000</td>\n      <td>887000</td>\n      <td>882000</td>\n      <td>923000</td>\n      <td>899000</td>\n    </tr>\n    <tr>\n      <td>22</td>\n      <td>VERMONT</td>\n      <td>Any coverage</td>\n      <td>590000</td>\n      <td>576000</td>\n      <td>580000</td>\n      <td>579000</td>\n      <td>570000</td>\n    </tr>\n    <tr>\n      <td>23</td>\n      <td>VERMONT</td>\n      <td>Uninsured</td>\n      <td>31000</td>\n      <td>45000</td>\n      <td>40000</td>\n      <td>41000</td>\n      <td>50000</td>\n    </tr>\n  </tbody>\n</table>\n</div>",
      "text/plain": "      Nation/State      Coverage      2014      2013      2012      2011  \\\n0          ARIZONA  Any coverage   5720000   5403000   5313000   5283000   \n1          ARIZONA     Uninsured    903000   1118000   1131000   1095000   \n2          FLORIDA  Any coverage  16338000  15392000  15195000  14841000   \n3          FLORIDA     Uninsured   3245000   3853000   3816000   3911000   \n4         ILLINOIS  Any coverage  11464000  11086000  11076000  11029000   \n5         ILLINOIS     Uninsured   1238000   1618000   1622000   1659000   \n6             IOWA  Any coverage   2874000   2798000   2775000   2748000   \n7             IOWA     Uninsured    189000    248000    254000    269000   \n8         KENTUCKY  Any coverage   3962000   3696000   3697000   3666000   \n9         KENTUCKY     Uninsured    366000    616000    595000    618000   \n10        MARYLAND  Any coverage   5423000   5241000   5191000   5138000   \n11        MARYLAND     Uninsured    463000    593000    598000    598000   \n12       MINNESOTA  Any coverage   5081000   4923000   4895000   4819000   \n13       MINNESOTA     Uninsured    317000    440000    425000    467000   \n14        NEBRASKA  Any coverage   1674000   1632000   1621000   1607000   \n15        NEBRASKA     Uninsured    179000    209000    206000    207000   \n16  NORTH CAROLINA  Any coverage   8476000   8136000   7970000   7916000   \n17  NORTH CAROLINA     Uninsured   1276000   1509000   1582000   1545000   \n18  SOUTH CAROLINA  Any coverage   4092000   3939000   3845000   3813000   \n19  SOUTH CAROLINA     Uninsured    642000    739000    778000    766000   \n20       TENNESSEE  Any coverage   5672000   5508000   5473000   5380000   \n21       TENNESSEE     Uninsured    776000    887000    882000    923000   \n22         VERMONT  Any coverage    590000    576000    580000    579000   \n23         VERMONT     Uninsured     31000     45000     40000     41000   \n\n        2010  \n0    5245000  \n1    1065000  \n2   14593000  \n3    3941000  \n4   10928000  \n5    1746000  \n6    2725000  \n7     280000  \n8    3596000  \n9     647000  \n10   5047000  \n11    641000  \n12   4776000  \n13    476000  \n14   1594000  \n15    208000  \n16   7791000  \n17   1570000  \n18   3742000  \n19    795000  \n20   5361000  \n21    899000  \n22    570000  \n23     50000  "
     },
     "execution_count": 5,
     "metadata": {},
     "output_type": "execute_result"
    }
   ],
   "source": [
    "df = pd.read_csv('Resources/insurance_coverage_2010-2014.csv')\n",
    "df"
   ]
  },
  {
   "cell_type": "code",
   "execution_count": null,
   "metadata": {},
   "outputs": [],
   "source": []
  }
 ]
}