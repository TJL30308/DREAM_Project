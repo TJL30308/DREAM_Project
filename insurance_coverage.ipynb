{
 "nbformat": 4,
 "nbformat_minor": 2,
 "metadata": {
  "language_info": {
   "name": "python",
   "codemirror_mode": {
    "name": "ipython",
    "version": 3
   },
   "version": "3.7.4-final"
  },
  "orig_nbformat": 2,
  "file_extension": ".py",
  "mimetype": "text/x-python",
  "name": "python",
  "npconvert_exporter": "python",
  "pygments_lexer": "ipython3",
  "version": 3,
  "kernelspec": {
   "name": "python37464bitjaimevirtualenv60a017d0aab1428489224e80d1d6d70a",
   "display_name": "Python 3.7.4 64-bit ('jaime': virtualenv)"
  }
 },
 "cells": [
  {
   "cell_type": "markdown",
   "execution_count": null,
   "metadata": {},
   "outputs": [],
   "source": [
    "# Insurance Coverage 2010 - 2014"
   ]
  },
  {
   "cell_type": "code",
   "execution_count": 61,
   "metadata": {},
   "outputs": [],
   "source": [
    "import pandas as pd\n",
    "import matplotlib.pyplot as plt\n",
    "from params import states_list, years_list\n",
    "\n",
    "df = pd.read_csv('Resources/insurance_coverage_2010-2014.csv')"
   ]
  },
  {
   "cell_type": "markdown",
   "execution_count": null,
   "metadata": {},
   "outputs": [],
   "source": [
    "## Insured Dataframe"
   ]
  },
  {
   "cell_type": "code",
   "execution_count": 62,
   "metadata": {},
   "outputs": [
    {
     "data": {
      "text/html": "<div>\n<style scoped>\n    .dataframe tbody tr th:only-of-type {\n        vertical-align: middle;\n    }\n\n    .dataframe tbody tr th {\n        vertical-align: top;\n    }\n\n    .dataframe thead th {\n        text-align: right;\n    }\n</style>\n<table border=\"1\" class=\"dataframe\">\n  <thead>\n    <tr style=\"text-align: right;\">\n      <th></th>\n      <th>2014</th>\n      <th>2013</th>\n      <th>2012</th>\n      <th>2011</th>\n      <th>2010</th>\n    </tr>\n    <tr>\n      <th>State</th>\n      <th></th>\n      <th></th>\n      <th></th>\n      <th></th>\n      <th></th>\n    </tr>\n  </thead>\n  <tbody>\n    <tr>\n      <td>ARIZONA</td>\n      <td>5720000</td>\n      <td>5403000</td>\n      <td>5313000</td>\n      <td>5283000</td>\n      <td>5245000</td>\n    </tr>\n    <tr>\n      <td>FLORIDA</td>\n      <td>16338000</td>\n      <td>15392000</td>\n      <td>15195000</td>\n      <td>14841000</td>\n      <td>14593000</td>\n    </tr>\n    <tr>\n      <td>ILLINOIS</td>\n      <td>11464000</td>\n      <td>11086000</td>\n      <td>11076000</td>\n      <td>11029000</td>\n      <td>10928000</td>\n    </tr>\n    <tr>\n      <td>IOWA</td>\n      <td>2874000</td>\n      <td>2798000</td>\n      <td>2775000</td>\n      <td>2748000</td>\n      <td>2725000</td>\n    </tr>\n    <tr>\n      <td>KENTUCKY</td>\n      <td>3962000</td>\n      <td>3696000</td>\n      <td>3697000</td>\n      <td>3666000</td>\n      <td>3596000</td>\n    </tr>\n  </tbody>\n</table>\n</div>",
      "text/plain": "              2014      2013      2012      2011      2010\nState                                                     \nARIZONA    5720000   5403000   5313000   5283000   5245000\nFLORIDA   16338000  15392000  15195000  14841000  14593000\nILLINOIS  11464000  11086000  11076000  11029000  10928000\nIOWA       2874000   2798000   2775000   2748000   2725000\nKENTUCKY   3962000   3696000   3697000   3666000   3596000"
     },
     "execution_count": 62,
     "metadata": {},
     "output_type": "execute_result"
    }
   ],
   "source": [
    "insured = df[df['Coverage'] == 'Any coverage']\n",
    "insured = insured.drop(['Coverage'], axis =1)\n",
    "insured = insured.set_index('State')\n",
    "insured.head()"
   ]
  },
  {
   "cell_type": "markdown",
   "execution_count": null,
   "metadata": {},
   "outputs": [],
   "source": [
    "## Uninsured Dataframe"
   ]
  },
  {
   "cell_type": "code",
   "execution_count": 63,
   "metadata": {},
   "outputs": [
    {
     "data": {
      "text/html": "<div>\n<style scoped>\n    .dataframe tbody tr th:only-of-type {\n        vertical-align: middle;\n    }\n\n    .dataframe tbody tr th {\n        vertical-align: top;\n    }\n\n    .dataframe thead th {\n        text-align: right;\n    }\n</style>\n<table border=\"1\" class=\"dataframe\">\n  <thead>\n    <tr style=\"text-align: right;\">\n      <th></th>\n      <th>2014</th>\n      <th>2013</th>\n      <th>2012</th>\n      <th>2011</th>\n      <th>2010</th>\n    </tr>\n    <tr>\n      <th>State</th>\n      <th></th>\n      <th></th>\n      <th></th>\n      <th></th>\n      <th></th>\n    </tr>\n  </thead>\n  <tbody>\n    <tr>\n      <td>ARIZONA</td>\n      <td>903000</td>\n      <td>1118000</td>\n      <td>1131000</td>\n      <td>1095000</td>\n      <td>1065000</td>\n    </tr>\n    <tr>\n      <td>FLORIDA</td>\n      <td>3245000</td>\n      <td>3853000</td>\n      <td>3816000</td>\n      <td>3911000</td>\n      <td>3941000</td>\n    </tr>\n    <tr>\n      <td>ILLINOIS</td>\n      <td>1238000</td>\n      <td>1618000</td>\n      <td>1622000</td>\n      <td>1659000</td>\n      <td>1746000</td>\n    </tr>\n    <tr>\n      <td>IOWA</td>\n      <td>189000</td>\n      <td>248000</td>\n      <td>254000</td>\n      <td>269000</td>\n      <td>280000</td>\n    </tr>\n    <tr>\n      <td>KENTUCKY</td>\n      <td>366000</td>\n      <td>616000</td>\n      <td>595000</td>\n      <td>618000</td>\n      <td>647000</td>\n    </tr>\n  </tbody>\n</table>\n</div>",
      "text/plain": "             2014     2013     2012     2011     2010\nState                                                \nARIZONA    903000  1118000  1131000  1095000  1065000\nFLORIDA   3245000  3853000  3816000  3911000  3941000\nILLINOIS  1238000  1618000  1622000  1659000  1746000\nIOWA       189000   248000   254000   269000   280000\nKENTUCKY   366000   616000   595000   618000   647000"
     },
     "execution_count": 63,
     "metadata": {},
     "output_type": "execute_result"
    }
   ],
   "source": [
    "uninsured = df[df['Coverage'] == 'Uninsured']\n",
    "uninsured = uninsured.drop(['Coverage'], axis = 1)\n",
    "uninsured = uninsured.set_index('State')\n",
    "uninsured.head()"
   ]
  },
  {
   "cell_type": "markdown",
   "execution_count": null,
   "metadata": {},
   "outputs": [],
   "source": [
    "## Total Population Dataframe"
   ]
  },
  {
   "cell_type": "code",
   "execution_count": 64,
   "metadata": {},
   "outputs": [
    {
     "data": {
      "text/html": "<div>\n<style scoped>\n    .dataframe tbody tr th:only-of-type {\n        vertical-align: middle;\n    }\n\n    .dataframe tbody tr th {\n        vertical-align: top;\n    }\n\n    .dataframe thead th {\n        text-align: right;\n    }\n</style>\n<table border=\"1\" class=\"dataframe\">\n  <thead>\n    <tr style=\"text-align: right;\">\n      <th></th>\n      <th>2014</th>\n      <th>2013</th>\n      <th>2012</th>\n      <th>2011</th>\n      <th>2010</th>\n    </tr>\n    <tr>\n      <th>State</th>\n      <th></th>\n      <th></th>\n      <th></th>\n      <th></th>\n      <th></th>\n    </tr>\n  </thead>\n  <tbody>\n    <tr>\n      <td>ARIZONA</td>\n      <td>6623000</td>\n      <td>6521000</td>\n      <td>6444000</td>\n      <td>6378000</td>\n      <td>6310000</td>\n    </tr>\n    <tr>\n      <td>FLORIDA</td>\n      <td>19583000</td>\n      <td>19245000</td>\n      <td>19011000</td>\n      <td>18752000</td>\n      <td>18534000</td>\n    </tr>\n    <tr>\n      <td>ILLINOIS</td>\n      <td>12702000</td>\n      <td>12704000</td>\n      <td>12698000</td>\n      <td>12688000</td>\n      <td>12674000</td>\n    </tr>\n    <tr>\n      <td>IOWA</td>\n      <td>3063000</td>\n      <td>3046000</td>\n      <td>3029000</td>\n      <td>3017000</td>\n      <td>3005000</td>\n    </tr>\n    <tr>\n      <td>KENTUCKY</td>\n      <td>4328000</td>\n      <td>4312000</td>\n      <td>4292000</td>\n      <td>4284000</td>\n      <td>4243000</td>\n    </tr>\n  </tbody>\n</table>\n</div>",
      "text/plain": "              2014      2013      2012      2011      2010\nState                                                     \nARIZONA    6623000   6521000   6444000   6378000   6310000\nFLORIDA   19583000  19245000  19011000  18752000  18534000\nILLINOIS  12702000  12704000  12698000  12688000  12674000\nIOWA       3063000   3046000   3029000   3017000   3005000\nKENTUCKY   4328000   4312000   4292000   4284000   4243000"
     },
     "execution_count": 64,
     "metadata": {},
     "output_type": "execute_result"
    }
   ],
   "source": [
    "total_pop = insured + uninsured\n",
    "total_pop.head()"
   ]
  },
  {
   "cell_type": "markdown",
   "execution_count": null,
   "metadata": {},
   "outputs": [],
   "source": [
    "## Percent Insured"
   ]
  },
  {
   "cell_type": "code",
   "execution_count": 65,
   "metadata": {},
   "outputs": [
    {
     "data": {
      "text/html": "<div>\n<style scoped>\n    .dataframe tbody tr th:only-of-type {\n        vertical-align: middle;\n    }\n\n    .dataframe tbody tr th {\n        vertical-align: top;\n    }\n\n    .dataframe thead th {\n        text-align: right;\n    }\n</style>\n<table border=\"1\" class=\"dataframe\">\n  <thead>\n    <tr style=\"text-align: right;\">\n      <th></th>\n      <th>2014</th>\n      <th>2013</th>\n      <th>2012</th>\n      <th>2011</th>\n      <th>2010</th>\n    </tr>\n    <tr>\n      <th>State</th>\n      <th></th>\n      <th></th>\n      <th></th>\n      <th></th>\n      <th></th>\n    </tr>\n  </thead>\n  <tbody>\n    <tr>\n      <td>ARIZONA</td>\n      <td>0.863657</td>\n      <td>0.828554</td>\n      <td>0.824488</td>\n      <td>0.828316</td>\n      <td>0.831220</td>\n    </tr>\n    <tr>\n      <td>FLORIDA</td>\n      <td>0.834295</td>\n      <td>0.799792</td>\n      <td>0.799274</td>\n      <td>0.791436</td>\n      <td>0.787364</td>\n    </tr>\n    <tr>\n      <td>ILLINOIS</td>\n      <td>0.902535</td>\n      <td>0.872639</td>\n      <td>0.872263</td>\n      <td>0.869247</td>\n      <td>0.862238</td>\n    </tr>\n    <tr>\n      <td>IOWA</td>\n      <td>0.938296</td>\n      <td>0.918582</td>\n      <td>0.916144</td>\n      <td>0.910839</td>\n      <td>0.906822</td>\n    </tr>\n    <tr>\n      <td>KENTUCKY</td>\n      <td>0.915434</td>\n      <td>0.857143</td>\n      <td>0.861370</td>\n      <td>0.855742</td>\n      <td>0.847514</td>\n    </tr>\n  </tbody>\n</table>\n</div>",
      "text/plain": "              2014      2013      2012      2011      2010\nState                                                     \nARIZONA   0.863657  0.828554  0.824488  0.828316  0.831220\nFLORIDA   0.834295  0.799792  0.799274  0.791436  0.787364\nILLINOIS  0.902535  0.872639  0.872263  0.869247  0.862238\nIOWA      0.938296  0.918582  0.916144  0.910839  0.906822\nKENTUCKY  0.915434  0.857143  0.861370  0.855742  0.847514"
     },
     "execution_count": 65,
     "metadata": {},
     "output_type": "execute_result"
    }
   ],
   "source": [
    "percent_insured = insured / total_pop\n",
    "percent_insured.head()"
   ]
  },
  {
   "cell_type": "markdown",
   "execution_count": null,
   "metadata": {},
   "outputs": [],
   "source": [
    "## Percent Uninsured"
   ]
  },
  {
   "cell_type": "code",
   "execution_count": 66,
   "metadata": {},
   "outputs": [
    {
     "data": {
      "text/html": "<div>\n<style scoped>\n    .dataframe tbody tr th:only-of-type {\n        vertical-align: middle;\n    }\n\n    .dataframe tbody tr th {\n        vertical-align: top;\n    }\n\n    .dataframe thead th {\n        text-align: right;\n    }\n</style>\n<table border=\"1\" class=\"dataframe\">\n  <thead>\n    <tr style=\"text-align: right;\">\n      <th></th>\n      <th>2014</th>\n      <th>2013</th>\n      <th>2012</th>\n      <th>2011</th>\n      <th>2010</th>\n    </tr>\n    <tr>\n      <th>State</th>\n      <th></th>\n      <th></th>\n      <th></th>\n      <th></th>\n      <th></th>\n    </tr>\n  </thead>\n  <tbody>\n    <tr>\n      <td>ARIZONA</td>\n      <td>0.136343</td>\n      <td>0.171446</td>\n      <td>0.175512</td>\n      <td>0.171684</td>\n      <td>0.168780</td>\n    </tr>\n    <tr>\n      <td>FLORIDA</td>\n      <td>0.165705</td>\n      <td>0.200208</td>\n      <td>0.200726</td>\n      <td>0.208564</td>\n      <td>0.212636</td>\n    </tr>\n    <tr>\n      <td>ILLINOIS</td>\n      <td>0.097465</td>\n      <td>0.127361</td>\n      <td>0.127737</td>\n      <td>0.130753</td>\n      <td>0.137762</td>\n    </tr>\n    <tr>\n      <td>IOWA</td>\n      <td>0.061704</td>\n      <td>0.081418</td>\n      <td>0.083856</td>\n      <td>0.089161</td>\n      <td>0.093178</td>\n    </tr>\n    <tr>\n      <td>KENTUCKY</td>\n      <td>0.084566</td>\n      <td>0.142857</td>\n      <td>0.138630</td>\n      <td>0.144258</td>\n      <td>0.152486</td>\n    </tr>\n  </tbody>\n</table>\n</div>",
      "text/plain": "              2014      2013      2012      2011      2010\nState                                                     \nARIZONA   0.136343  0.171446  0.175512  0.171684  0.168780\nFLORIDA   0.165705  0.200208  0.200726  0.208564  0.212636\nILLINOIS  0.097465  0.127361  0.127737  0.130753  0.137762\nIOWA      0.061704  0.081418  0.083856  0.089161  0.093178\nKENTUCKY  0.084566  0.142857  0.138630  0.144258  0.152486"
     },
     "execution_count": 66,
     "metadata": {},
     "output_type": "execute_result"
    }
   ],
   "source": [
    "percent_uninsured = uninsured / total_pop\n",
    "percent_uninsured.head()"
   ]
  },
  {
   "cell_type": "code",
   "execution_count": null,
   "metadata": {},
   "outputs": [],
   "source": []
  }
 ]
}